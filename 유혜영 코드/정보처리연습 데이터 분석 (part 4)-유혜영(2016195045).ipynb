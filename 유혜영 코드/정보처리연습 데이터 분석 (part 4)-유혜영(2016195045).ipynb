{
 "cells": [
  {
   "cell_type": "markdown",
   "metadata": {},
   "source": [
    "# 정보처리연습 기말 보고서 코드 - 유혜영 (2016195045)"
   ]
  },
  {
   "cell_type": "markdown",
   "metadata": {},
   "source": [
    "# Step 4. Data Analysis "
   ]
  },
  {
   "cell_type": "markdown",
   "metadata": {},
   "source": [
    "- K-Nearest Neighbors Classification\n",
    "- Gaussian Naive Bayes Classification\n",
    "- Random Forest Classification"
   ]
  },
  {
   "cell_type": "markdown",
   "metadata": {},
   "source": [
    "## Step 1. Setting X and y from dataframe"
   ]
  },
  {
   "cell_type": "code",
   "execution_count": 102,
   "metadata": {},
   "outputs": [
    {
     "data": {
      "text/html": [
       "<div>\n",
       "<style scoped>\n",
       "    .dataframe tbody tr th:only-of-type {\n",
       "        vertical-align: middle;\n",
       "    }\n",
       "\n",
       "    .dataframe tbody tr th {\n",
       "        vertical-align: top;\n",
       "    }\n",
       "\n",
       "    .dataframe thead th {\n",
       "        text-align: right;\n",
       "    }\n",
       "</style>\n",
       "<table border=\"1\" class=\"dataframe\">\n",
       "  <thead>\n",
       "    <tr style=\"text-align: right;\">\n",
       "      <th></th>\n",
       "      <th>Unnamed: 0</th>\n",
       "      <th>review_numbers</th>\n",
       "      <th>review_scores</th>\n",
       "      <th>review_weekdays</th>\n",
       "      <th>sentiment_compound</th>\n",
       "      <th>company_name</th>\n",
       "    </tr>\n",
       "  </thead>\n",
       "  <tbody>\n",
       "    <tr>\n",
       "      <th>0</th>\n",
       "      <td>0</td>\n",
       "      <td>1</td>\n",
       "      <td>1</td>\n",
       "      <td>1</td>\n",
       "      <td>1</td>\n",
       "      <td>expedia</td>\n",
       "    </tr>\n",
       "    <tr>\n",
       "      <th>1</th>\n",
       "      <td>1</td>\n",
       "      <td>1</td>\n",
       "      <td>1</td>\n",
       "      <td>3</td>\n",
       "      <td>1</td>\n",
       "      <td>expedia</td>\n",
       "    </tr>\n",
       "    <tr>\n",
       "      <th>2</th>\n",
       "      <td>2</td>\n",
       "      <td>1</td>\n",
       "      <td>1</td>\n",
       "      <td>3</td>\n",
       "      <td>0</td>\n",
       "      <td>expedia</td>\n",
       "    </tr>\n",
       "    <tr>\n",
       "      <th>3</th>\n",
       "      <td>3</td>\n",
       "      <td>1</td>\n",
       "      <td>1</td>\n",
       "      <td>0</td>\n",
       "      <td>0</td>\n",
       "      <td>expedia</td>\n",
       "    </tr>\n",
       "    <tr>\n",
       "      <th>4</th>\n",
       "      <td>4</td>\n",
       "      <td>2</td>\n",
       "      <td>3</td>\n",
       "      <td>0</td>\n",
       "      <td>0</td>\n",
       "      <td>expedia</td>\n",
       "    </tr>\n",
       "  </tbody>\n",
       "</table>\n",
       "</div>"
      ],
      "text/plain": [
       "   Unnamed: 0  review_numbers  review_scores  review_weekdays  \\\n",
       "0           0               1              1                1   \n",
       "1           1               1              1                3   \n",
       "2           2               1              1                3   \n",
       "3           3               1              1                0   \n",
       "4           4               2              3                0   \n",
       "\n",
       "   sentiment_compound company_name  \n",
       "0                   1      expedia  \n",
       "1                   1      expedia  \n",
       "2                   0      expedia  \n",
       "3                   0      expedia  \n",
       "4                   0      expedia  "
      ]
     },
     "execution_count": 102,
     "metadata": {},
     "output_type": "execute_result"
    }
   ],
   "source": [
    "# Import necessary module to handle the dataframe\n",
    "import pandas as pd\n",
    "\n",
    "# Read the preprocessed_df.tsv file\n",
    "df = pd.read_csv('/Users/angieryu2202/Desktop/preprocessed_df.tsv', sep =\"\\t\")\n",
    "\n",
    "# Check if the data has been read properly\n",
    "df.head(5)"
   ]
  },
  {
   "cell_type": "code",
   "execution_count": 103,
   "metadata": {
    "scrolled": false
   },
   "outputs": [
    {
     "data": {
      "text/html": [
       "<div>\n",
       "<style scoped>\n",
       "    .dataframe tbody tr th:only-of-type {\n",
       "        vertical-align: middle;\n",
       "    }\n",
       "\n",
       "    .dataframe tbody tr th {\n",
       "        vertical-align: top;\n",
       "    }\n",
       "\n",
       "    .dataframe thead th {\n",
       "        text-align: right;\n",
       "    }\n",
       "</style>\n",
       "<table border=\"1\" class=\"dataframe\">\n",
       "  <thead>\n",
       "    <tr style=\"text-align: right;\">\n",
       "      <th></th>\n",
       "      <th>review_numbers</th>\n",
       "      <th>review_scores</th>\n",
       "      <th>review_weekdays</th>\n",
       "      <th>sentiment_compound</th>\n",
       "      <th>company_name</th>\n",
       "    </tr>\n",
       "  </thead>\n",
       "  <tbody>\n",
       "    <tr>\n",
       "      <th>0</th>\n",
       "      <td>1</td>\n",
       "      <td>1</td>\n",
       "      <td>1</td>\n",
       "      <td>1</td>\n",
       "      <td>expedia</td>\n",
       "    </tr>\n",
       "    <tr>\n",
       "      <th>1</th>\n",
       "      <td>1</td>\n",
       "      <td>1</td>\n",
       "      <td>3</td>\n",
       "      <td>1</td>\n",
       "      <td>expedia</td>\n",
       "    </tr>\n",
       "    <tr>\n",
       "      <th>2</th>\n",
       "      <td>1</td>\n",
       "      <td>1</td>\n",
       "      <td>3</td>\n",
       "      <td>0</td>\n",
       "      <td>expedia</td>\n",
       "    </tr>\n",
       "    <tr>\n",
       "      <th>3</th>\n",
       "      <td>1</td>\n",
       "      <td>1</td>\n",
       "      <td>0</td>\n",
       "      <td>0</td>\n",
       "      <td>expedia</td>\n",
       "    </tr>\n",
       "    <tr>\n",
       "      <th>4</th>\n",
       "      <td>2</td>\n",
       "      <td>3</td>\n",
       "      <td>0</td>\n",
       "      <td>0</td>\n",
       "      <td>expedia</td>\n",
       "    </tr>\n",
       "  </tbody>\n",
       "</table>\n",
       "</div>"
      ],
      "text/plain": [
       "   review_numbers  review_scores  review_weekdays  sentiment_compound  \\\n",
       "0               1              1                1                   1   \n",
       "1               1              1                3                   1   \n",
       "2               1              1                3                   0   \n",
       "3               1              1                0                   0   \n",
       "4               2              3                0                   0   \n",
       "\n",
       "  company_name  \n",
       "0      expedia  \n",
       "1      expedia  \n",
       "2      expedia  \n",
       "3      expedia  \n",
       "4      expedia  "
      ]
     },
     "execution_count": 103,
     "metadata": {},
     "output_type": "execute_result"
    }
   ],
   "source": [
    "# Take out the unnecessary \"Unnamed: 0\" column\n",
    "df1 = df.iloc[:, 1:6]\n",
    "# Check if the column has been taken out properly\n",
    "df1.head(5)"
   ]
  },
  {
   "cell_type": "code",
   "execution_count": 104,
   "metadata": {},
   "outputs": [
    {
     "data": {
      "text/plain": [
       "(10680, 5)"
      ]
     },
     "execution_count": 104,
     "metadata": {},
     "output_type": "execute_result"
    }
   ],
   "source": [
    "# Check if shape of data\n",
    "df1.shape"
   ]
  },
  {
   "cell_type": "code",
   "execution_count": 105,
   "metadata": {},
   "outputs": [],
   "source": [
    "# Set X and y from the dataframe\n",
    "import numpy as np\n",
    "feature_names = [i for i in df1.columns if df1[i].dtype in [np.int64]]\n",
    "X = df1[feature_names]\n",
    "y = df1.iloc[:, -1].values"
   ]
  },
  {
   "cell_type": "markdown",
   "metadata": {},
   "source": [
    "## Step 2. Creating Training and Test Set "
   ]
  },
  {
   "cell_type": "code",
   "execution_count": 106,
   "metadata": {},
   "outputs": [],
   "source": [
    "# Divide the dataset into training set and testing set\n",
    "# Test set size is 0.3\n",
    "from sklearn.model_selection import train_test_split  \n",
    "X_train, X_test, y_train, y_test = train_test_split(X, y, test_size=0.30, random_state = 0)"
   ]
  },
  {
   "cell_type": "code",
   "execution_count": 107,
   "metadata": {},
   "outputs": [],
   "source": [
    "# Feature Scaling is needed since the review_numbers data has a significantly wider range than other columns\n",
    "from sklearn.preprocessing import StandardScaler  \n",
    "scaler = StandardScaler()\n",
    "scaler.fit(X_train)\n",
    "\n",
    "X_train1 = scaler.transform(X_train)  \n",
    "X_test1 = scaler.transform(X_test)  "
   ]
  },
  {
   "cell_type": "markdown",
   "metadata": {},
   "source": [
    "## Step 3. Implementing Machine Learning Algorithms "
   ]
  },
  {
   "cell_type": "markdown",
   "metadata": {},
   "source": [
    "### 1. kNN"
   ]
  },
  {
   "cell_type": "code",
   "execution_count": 108,
   "metadata": {},
   "outputs": [
    {
     "data": {
      "text/plain": [
       "kvalues       19.00000\n",
       "accuracies     0.50593\n",
       "Name: 18, dtype: float64"
      ]
     },
     "execution_count": 108,
     "metadata": {},
     "output_type": "execute_result"
    },
    {
     "data": {
      "image/png": "[encoded data removed]",
      "text/plain": [
       "<Figure size 864x432 with 1 Axes>"
      ]
     },
     "metadata": {
      "needs_background": "light"
     },
     "output_type": "display_data"
    }
   ],
   "source": [
    "# Import necessary modules for finding k value with the highest accuracy\n",
    "from sklearn.neighbors import KNeighborsClassifier\n",
    "from sklearn.metrics import accuracy_score\n",
    "import matplotlib.pyplot as plt\n",
    "\n",
    "# Make empty dictionary for accuracies and k values\n",
    "k_detector = {}\n",
    "\n",
    "# Make empty lists for the values of accuracies and kvalues\n",
    "accuracies = []\n",
    "kvalues = []\n",
    "\n",
    "# For k values from 1 to 25, find the accuracy of each value\n",
    "for i in range(1,26):\n",
    "    classifier = KNeighborsClassifier(n_neighbors=i)\n",
    "    classifier.fit(X_train1, y_train)\n",
    "    y_test_pred = classifier.predict(X_test1)\n",
    "    accuracy = accuracy_score(y_test,y_test_pred)\n",
    "    accuracies.append(accuracy)\n",
    "    kvalues.append(i)\n",
    "\n",
    "# Append the lists as values to the keys of kvalues and accuracies\n",
    "k_detector['kvalues'] = kvalues\n",
    "k_detector['accuracies'] = accuracies\n",
    "\n",
    "# Plot the accuracy plot\n",
    "plt.figure(figsize=(12, 6))  \n",
    "plt.plot(range(1, 26), accuracies, color='red', linestyle='dashed', marker='o',  \n",
    "         markerfacecolor='blue', markersize=10)\n",
    "plt.title('Accuracy Rate K Value')  \n",
    "plt.xlabel('K Value')  \n",
    "plt.ylabel('Accuracy')\n",
    "\n",
    "# Find the k value that has the highest accuracy\n",
    "k_detector_df = pd.DataFrame(k_detector)\n",
    "k_detector_df.loc[k_detector_df.iloc[:, -1].idxmax()]"
   ]
  },
  {
   "cell_type": "code",
   "execution_count": 109,
   "metadata": {
    "scrolled": true
   },
   "outputs": [],
   "source": [
    "# Train the classifier with optimal k value\n",
    "from sklearn.neighbors import KNeighborsClassifier  \n",
    "knn_clf = KNeighborsClassifier(n_neighbors=19).fit(X_train1, y_train)\n",
    "\n",
    "# Predict output\n",
    "knn_y_train_pred = knn_clf.predict(X_train1)\n",
    "knn_y_test_pred = knn_clf.predict(X_test1)"
   ]
  },
  {
   "cell_type": "code",
   "execution_count": 110,
   "metadata": {},
   "outputs": [
    {
     "name": "stdout",
     "output_type": "stream",
     "text": [
      "             agoda  booking  expedia  hostelworld  priceline\n",
      "agoda          170       60       74           90        250\n",
      "booking         10      327      225           30         48\n",
      "expedia          7      164      412           12         23\n",
      "hostelworld     71       27       37          358        153\n",
      "priceline      148       20       30          104        354\n",
      "             precision    recall  f1-score   support\n",
      "\n",
      "      agoda       0.42      0.26      0.32       644\n",
      "    booking       0.55      0.51      0.53       640\n",
      "    expedia       0.53      0.67      0.59       618\n",
      "hostelworld       0.60      0.55      0.58       646\n",
      "  priceline       0.43      0.54      0.48       656\n",
      "\n",
      "avg / total       0.50      0.51      0.50      3204\n",
      "\n",
      "Accuracy rate for the training set: 53.624933119315145%\n",
      "Accuracy rate for the testing set: 50.593008739076154%\n"
     ]
    }
   ],
   "source": [
    "# Import classifcation_report, confusion_matrix, and accuracy_score\n",
    "from sklearn.metrics import classification_report, confusion_matrix, accuracy_score \n",
    "\n",
    "# Check the confusion matrix (row-true class, column-predicted class)\n",
    "knn_cm = pd.DataFrame(confusion_matrix(y_test, knn_y_test_pred), index = [\"agoda\",\"booking\",\"expedia\",\"hostelworld\", \"priceline\"],columns = [\"agoda\",\"booking\",\"expedia\",\"hostelworld\", \"priceline\"])\n",
    "print(knn_cm)\n",
    "\n",
    "# Check the classification report\n",
    "print(classification_report(y_test, knn_y_test_pred))\n",
    "\n",
    "# Check the accuracy rate\n",
    "print (\"Accuracy rate for the training set: \" + str(accuracy_score(y_train, knn_y_train_pred)*100) + \"%\")\n",
    "print (\"Accuracy rate for the testing set: \" + str(accuracy_score(y_test, knn_y_test_pred)*100) + \"%\")"
   ]
  },
  {
   "cell_type": "code",
   "execution_count": 111,
   "metadata": {},
   "outputs": [
    {
     "data": {
      "text/html": [
       "\n",
       "    <style>\n",
       "    table.eli5-weights tr:hover {\n",
       "        filter: brightness(85%);\n",
       "    }\n",
       "</style>\n",
       "\n",
       "\n",
       "\n",
       "    \n",
       "\n",
       "    \n",
       "\n",
       "    \n",
       "\n",
       "    \n",
       "\n",
       "    \n",
       "\n",
       "    \n",
       "\n",
       "\n",
       "    \n",
       "\n",
       "    \n",
       "\n",
       "    \n",
       "\n",
       "    \n",
       "\n",
       "    \n",
       "\n",
       "    \n",
       "\n",
       "\n",
       "    \n",
       "\n",
       "    \n",
       "\n",
       "    \n",
       "\n",
       "    \n",
       "\n",
       "    \n",
       "        <table class=\"eli5-weights eli5-feature-importances\" style=\"border-collapse: collapse; border: none; margin-top: 0em; table-layout: auto;\">\n",
       "    <thead>\n",
       "    <tr style=\"border: none;\">\n",
       "        <th style=\"padding: 0 1em 0 0.5em; text-align: right; border: none;\">Weight</th>\n",
       "        <th style=\"padding: 0 0.5em 0 0.5em; text-align: left; border: none;\">Feature</th>\n",
       "    </tr>\n",
       "    </thead>\n",
       "    <tbody>\n",
       "    \n",
       "        <tr style=\"background-color: hsl(120, 100.00%, 80.00%); border: none;\">\n",
       "            <td style=\"padding: 0 1em 0 0.5em; text-align: right; border: none;\">\n",
       "                0.0664\n",
       "                \n",
       "                    &plusmn; 0.0040\n",
       "                \n",
       "            </td>\n",
       "            <td style=\"padding: 0 0.5em 0 0.5em; text-align: left; border: none;\">\n",
       "                review_weekdays\n",
       "            </td>\n",
       "        </tr>\n",
       "    \n",
       "        <tr style=\"background-color: hsl(120, 100.00%, 80.29%); border: none;\">\n",
       "            <td style=\"padding: 0 1em 0 0.5em; text-align: right; border: none;\">\n",
       "                0.0650\n",
       "                \n",
       "                    &plusmn; 0.0070\n",
       "                \n",
       "            </td>\n",
       "            <td style=\"padding: 0 0.5em 0 0.5em; text-align: left; border: none;\">\n",
       "                review_numbers\n",
       "            </td>\n",
       "        </tr>\n",
       "    \n",
       "        <tr style=\"background-color: hsl(120, 100.00%, 93.34%); border: none;\">\n",
       "            <td style=\"padding: 0 1em 0 0.5em; text-align: right; border: none;\">\n",
       "                0.0138\n",
       "                \n",
       "                    &plusmn; 0.0019\n",
       "                \n",
       "            </td>\n",
       "            <td style=\"padding: 0 0.5em 0 0.5em; text-align: left; border: none;\">\n",
       "                review_scores\n",
       "            </td>\n",
       "        </tr>\n",
       "    \n",
       "        <tr style=\"background-color: hsl(120, 100.00%, 94.64%); border: none;\">\n",
       "            <td style=\"padding: 0 1em 0 0.5em; text-align: right; border: none;\">\n",
       "                0.0101\n",
       "                \n",
       "                    &plusmn; 0.0045\n",
       "                \n",
       "            </td>\n",
       "            <td style=\"padding: 0 0.5em 0 0.5em; text-align: left; border: none;\">\n",
       "                sentiment_compound\n",
       "            </td>\n",
       "        </tr>\n",
       "    \n",
       "    \n",
       "    </tbody>\n",
       "</table>\n",
       "    \n",
       "\n",
       "    \n",
       "\n",
       "\n",
       "    \n",
       "\n",
       "    \n",
       "\n",
       "    \n",
       "\n",
       "    \n",
       "\n",
       "    \n",
       "\n",
       "    \n",
       "\n",
       "\n",
       "\n"
      ],
      "text/plain": [
       "<IPython.core.display.HTML object>"
      ]
     },
     "execution_count": 111,
     "metadata": {},
     "output_type": "execute_result"
    }
   ],
   "source": [
    "# Import necessary modules to determine the permutation importance of each feature\n",
    "import eli5\n",
    "from eli5.sklearn import PermutationImportance\n",
    "\n",
    "# Determine permutation importance of each feature\n",
    "perm = PermutationImportance(knn_clf).fit(X_test, y_test)\n",
    "eli5.show_weights(perm, feature_names = X_test.columns.tolist())"
   ]
  },
  {
   "cell_type": "markdown",
   "metadata": {},
   "source": [
    "### 2. Gaussian Naive Bayes"
   ]
  },
  {
   "cell_type": "code",
   "execution_count": 112,
   "metadata": {},
   "outputs": [],
   "source": [
    "# Import library of Gaussian Naive Bayes model\n",
    "from sklearn.naive_bayes import GaussianNB\n",
    "# Create and train Gaussian Naive Bayes Classifier\n",
    "# Naive Bayes classification does not require additional feature scaling with StandardScaler because it is already in its design\n",
    "gnbclf = GaussianNB().fit(X_train, y_train)"
   ]
  },
  {
   "cell_type": "code",
   "execution_count": 113,
   "metadata": {},
   "outputs": [],
   "source": [
    "# Predict Output \n",
    "gnb_y_train_pred = gnbclf.predict(X_train)\n",
    "gnb_y_test_pred = gnbclf.predict(X_test)"
   ]
  },
  {
   "cell_type": "code",
   "execution_count": 114,
   "metadata": {
    "scrolled": true
   },
   "outputs": [
    {
     "name": "stdout",
     "output_type": "stream",
     "text": [
      "             agoda  booking  expedia  hostelworld  priceline\n",
      "agoda           12       15      112           92        413\n",
      "booking         28      105      428           34         45\n",
      "expedia         11       21      547            8         31\n",
      "hostelworld     19        5       58          119        445\n",
      "priceline       20        1       48           95        492\n",
      "             precision    recall  f1-score   support\n",
      "\n",
      "      agoda       0.13      0.02      0.03       644\n",
      "    booking       0.71      0.16      0.27       640\n",
      "    expedia       0.46      0.89      0.60       618\n",
      "hostelworld       0.34      0.18      0.24       646\n",
      "  priceline       0.35      0.75      0.47       656\n",
      "\n",
      "avg / total       0.40      0.40      0.32      3204\n",
      "\n",
      "Accuracy rate for the training set: 39.258962011771%\n",
      "Accuracy rate for the testing set: 39.7940074906367%\n"
     ]
    }
   ],
   "source": [
    "# Check the confusion matrix (row-true class, column-predicted class)\n",
    "gnb_cm = pd.DataFrame(confusion_matrix(y_test, gnb_y_test_pred), index = [\"agoda\",\"booking\",\"expedia\",\"hostelworld\", \"priceline\"],columns = [\"agoda\",\"booking\",\"expedia\",\"hostelworld\", \"priceline\"])\n",
    "print(gnb_cm)\n",
    "\n",
    "# Check the classification report\n",
    "print(classification_report(y_test, gnb_y_test_pred))\n",
    "\n",
    "# Check the accuracy rate\n",
    "print (\"Accuracy rate for the training set: \" + str(accuracy_score(y_train, gnb_y_train_pred)*100) + \"%\")\n",
    "print (\"Accuracy rate for the testing set: \" + str(accuracy_score(y_test, gnb_y_test_pred)*100) + \"%\")"
   ]
  },
  {
   "cell_type": "code",
   "execution_count": 119,
   "metadata": {
    "scrolled": false
   },
   "outputs": [
    {
     "data": {
      "text/html": [
       "\n",
       "    <style>\n",
       "    table.eli5-weights tr:hover {\n",
       "        filter: brightness(85%);\n",
       "    }\n",
       "</style>\n",
       "\n",
       "\n",
       "\n",
       "    \n",
       "\n",
       "    \n",
       "\n",
       "    \n",
       "\n",
       "    \n",
       "\n",
       "    \n",
       "\n",
       "    \n",
       "\n",
       "\n",
       "    \n",
       "\n",
       "    \n",
       "\n",
       "    \n",
       "\n",
       "    \n",
       "\n",
       "    \n",
       "\n",
       "    \n",
       "\n",
       "\n",
       "    \n",
       "\n",
       "    \n",
       "\n",
       "    \n",
       "\n",
       "    \n",
       "\n",
       "    \n",
       "        <table class=\"eli5-weights eli5-feature-importances\" style=\"border-collapse: collapse; border: none; margin-top: 0em; table-layout: auto;\">\n",
       "    <thead>\n",
       "    <tr style=\"border: none;\">\n",
       "        <th style=\"padding: 0 1em 0 0.5em; text-align: right; border: none;\">Weight</th>\n",
       "        <th style=\"padding: 0 0.5em 0 0.5em; text-align: left; border: none;\">Feature</th>\n",
       "    </tr>\n",
       "    </thead>\n",
       "    <tbody>\n",
       "    \n",
       "        <tr style=\"background-color: hsl(120, 100.00%, 80.00%); border: none;\">\n",
       "            <td style=\"padding: 0 1em 0 0.5em; text-align: right; border: none;\">\n",
       "                0.1569\n",
       "                \n",
       "                    &plusmn; 0.0116\n",
       "                \n",
       "            </td>\n",
       "            <td style=\"padding: 0 0.5em 0 0.5em; text-align: left; border: none;\">\n",
       "                review_scores\n",
       "            </td>\n",
       "        </tr>\n",
       "    \n",
       "        <tr style=\"background-color: hsl(120, 100.00%, 92.80%); border: none;\">\n",
       "            <td style=\"padding: 0 1em 0 0.5em; text-align: right; border: none;\">\n",
       "                0.0365\n",
       "                \n",
       "                    &plusmn; 0.0106\n",
       "                \n",
       "            </td>\n",
       "            <td style=\"padding: 0 0.5em 0 0.5em; text-align: left; border: none;\">\n",
       "                review_numbers\n",
       "            </td>\n",
       "        </tr>\n",
       "    \n",
       "        <tr style=\"background-color: hsl(120, 100.00%, 98.15%); border: none;\">\n",
       "            <td style=\"padding: 0 1em 0 0.5em; text-align: right; border: none;\">\n",
       "                0.0052\n",
       "                \n",
       "                    &plusmn; 0.0070\n",
       "                \n",
       "            </td>\n",
       "            <td style=\"padding: 0 0.5em 0 0.5em; text-align: left; border: none;\">\n",
       "                review_weekdays\n",
       "            </td>\n",
       "        </tr>\n",
       "    \n",
       "        <tr style=\"background-color: hsl(120, 100.00%, 98.98%); border: none;\">\n",
       "            <td style=\"padding: 0 1em 0 0.5em; text-align: right; border: none;\">\n",
       "                0.0022\n",
       "                \n",
       "                    &plusmn; 0.0034\n",
       "                \n",
       "            </td>\n",
       "            <td style=\"padding: 0 0.5em 0 0.5em; text-align: left; border: none;\">\n",
       "                sentiment_compound\n",
       "            </td>\n",
       "        </tr>\n",
       "    \n",
       "    \n",
       "    </tbody>\n",
       "</table>\n",
       "    \n",
       "\n",
       "    \n",
       "\n",
       "\n",
       "    \n",
       "\n",
       "    \n",
       "\n",
       "    \n",
       "\n",
       "    \n",
       "\n",
       "    \n",
       "\n",
       "    \n",
       "\n",
       "\n",
       "\n"
      ],
      "text/plain": [
       "<IPython.core.display.HTML object>"
      ]
     },
     "execution_count": 119,
     "metadata": {},
     "output_type": "execute_result"
    }
   ],
   "source": [
    "# Determine permutation importance of each feature\n",
    "perm = PermutationImportance(gnbclf).fit(X_test, y_test)\n",
    "eli5.show_weights(perm, feature_names = X_test.columns.tolist())"
   ]
  },
  {
   "cell_type": "markdown",
   "metadata": {},
   "source": [
    "### 3. Random Forest "
   ]
  },
  {
   "cell_type": "code",
   "execution_count": 122,
   "metadata": {},
   "outputs": [],
   "source": [
    "# Import Random Forest Classifier\n",
    "from sklearn.ensemble import RandomForestClassifier\n",
    "# Create and train Random Forest Classifier\n",
    "rfclf = RandomForestClassifier().fit(X_train1, y_train)"
   ]
  },
  {
   "cell_type": "code",
   "execution_count": 123,
   "metadata": {},
   "outputs": [],
   "source": [
    "# Predict output\n",
    "rf_y_train_pred = rfclf.predict(X_train1)\n",
    "rf_y_test_pred = rfclf.predict(X_test1)"
   ]
  },
  {
   "cell_type": "code",
   "execution_count": 124,
   "metadata": {},
   "outputs": [
    {
     "name": "stdout",
     "output_type": "stream",
     "text": [
      "             agoda  booking  expedia  hostelworld  priceline\n",
      "agoda          145       44       87          129        239\n",
      "booking         23      270      265           30         52\n",
      "expedia         13      135      434           10         26\n",
      "hostelworld     42       28       45          379        152\n",
      "priceline      128       32       34          123        339\n",
      "             precision    recall  f1-score   support\n",
      "\n",
      "      agoda       0.41      0.23      0.29       644\n",
      "    booking       0.53      0.42      0.47       640\n",
      "    expedia       0.50      0.70      0.59       618\n",
      "hostelworld       0.56      0.59      0.58       646\n",
      "  priceline       0.42      0.52      0.46       656\n",
      "\n",
      "avg / total       0.49      0.49      0.48      3204\n",
      "\n",
      "Accuracy rate for the training set: 56.67469234884965%\n",
      "Accuracy rate for the testing set: 48.907615480649184%\n"
     ]
    }
   ],
   "source": [
    "# Check the confusion matrix (row-true class, column-predicted class)\n",
    "rf_cm = pd.DataFrame(confusion_matrix(y_test, rf_y_test_pred), index = [\"agoda\",\"booking\",\"expedia\",\"hostelworld\", \"priceline\"],columns = [\"agoda\",\"booking\",\"expedia\",\"hostelworld\", \"priceline\"])\n",
    "print(rf_cm)\n",
    "\n",
    "# Check the classification report\n",
    "print(classification_report(y_test,rf_y_test_pred))  \n",
    "\n",
    "# Check the accuracy rate\n",
    "print (\"Accuracy rate for the training set: \" + str(accuracy_score(y_train, rf_y_train_pred)*100) + \"%\")\n",
    "print (\"Accuracy rate for the testing set: \" + str(accuracy_score(y_test, rf_y_test_pred)*100) + \"%\")"
   ]
  },
  {
   "cell_type": "code",
   "execution_count": 125,
   "metadata": {
    "scrolled": true
   },
   "outputs": [
    {
     "data": {
      "text/html": [
       "\n",
       "    <style>\n",
       "    table.eli5-weights tr:hover {\n",
       "        filter: brightness(85%);\n",
       "    }\n",
       "</style>\n",
       "\n",
       "\n",
       "\n",
       "    \n",
       "\n",
       "    \n",
       "\n",
       "    \n",
       "\n",
       "    \n",
       "\n",
       "    \n",
       "\n",
       "    \n",
       "\n",
       "\n",
       "    \n",
       "\n",
       "    \n",
       "\n",
       "    \n",
       "\n",
       "    \n",
       "\n",
       "    \n",
       "\n",
       "    \n",
       "\n",
       "\n",
       "    \n",
       "\n",
       "    \n",
       "\n",
       "    \n",
       "\n",
       "    \n",
       "\n",
       "    \n",
       "        <table class=\"eli5-weights eli5-feature-importances\" style=\"border-collapse: collapse; border: none; margin-top: 0em; table-layout: auto;\">\n",
       "    <thead>\n",
       "    <tr style=\"border: none;\">\n",
       "        <th style=\"padding: 0 1em 0 0.5em; text-align: right; border: none;\">Weight</th>\n",
       "        <th style=\"padding: 0 0.5em 0 0.5em; text-align: left; border: none;\">Feature</th>\n",
       "    </tr>\n",
       "    </thead>\n",
       "    <tbody>\n",
       "    \n",
       "        <tr style=\"background-color: hsl(120, 100.00%, 80.00%); border: none;\">\n",
       "            <td style=\"padding: 0 1em 0 0.5em; text-align: right; border: none;\">\n",
       "                0.0443\n",
       "                \n",
       "                    &plusmn; 0.0063\n",
       "                \n",
       "            </td>\n",
       "            <td style=\"padding: 0 0.5em 0 0.5em; text-align: left; border: none;\">\n",
       "                review_numbers\n",
       "            </td>\n",
       "        </tr>\n",
       "    \n",
       "        <tr style=\"background-color: hsl(120, 100.00%, 87.97%); border: none;\">\n",
       "            <td style=\"padding: 0 1em 0 0.5em; text-align: right; border: none;\">\n",
       "                0.0214\n",
       "                \n",
       "                    &plusmn; 0.0065\n",
       "                \n",
       "            </td>\n",
       "            <td style=\"padding: 0 0.5em 0 0.5em; text-align: left; border: none;\">\n",
       "                sentiment_compound\n",
       "            </td>\n",
       "        </tr>\n",
       "    \n",
       "        <tr style=\"background-color: hsl(120, 100.00%, 88.94%); border: none;\">\n",
       "            <td style=\"padding: 0 1em 0 0.5em; text-align: right; border: none;\">\n",
       "                0.0190\n",
       "                \n",
       "                    &plusmn; 0.0070\n",
       "                \n",
       "            </td>\n",
       "            <td style=\"padding: 0 0.5em 0 0.5em; text-align: left; border: none;\">\n",
       "                review_weekdays\n",
       "            </td>\n",
       "        </tr>\n",
       "    \n",
       "        <tr style=\"background-color: hsl(0, 100.00%, 100.00%); border: none;\">\n",
       "            <td style=\"padding: 0 1em 0 0.5em; text-align: right; border: none;\">\n",
       "                0\n",
       "                \n",
       "                    &plusmn; 0.0000\n",
       "                \n",
       "            </td>\n",
       "            <td style=\"padding: 0 0.5em 0 0.5em; text-align: left; border: none;\">\n",
       "                review_scores\n",
       "            </td>\n",
       "        </tr>\n",
       "    \n",
       "    \n",
       "    </tbody>\n",
       "</table>\n",
       "    \n",
       "\n",
       "    \n",
       "\n",
       "\n",
       "    \n",
       "\n",
       "    \n",
       "\n",
       "    \n",
       "\n",
       "    \n",
       "\n",
       "    \n",
       "\n",
       "    \n",
       "\n",
       "\n",
       "\n"
      ],
      "text/plain": [
       "<IPython.core.display.HTML object>"
      ]
     },
     "execution_count": 125,
     "metadata": {},
     "output_type": "execute_result"
    }
   ],
   "source": [
    "# Determine permutation importance of each feature\n",
    "perm = PermutationImportance(rfclf).fit(X_test, y_test)\n",
    "eli5.show_weights(perm, feature_names = X_test.columns.tolist())"
   ]
  }
 ],
 "metadata": {
  "kernelspec": {
   "display_name": "Python 3",
   "language": "python",
   "name": "python3"
  },
  "language_info": {
   "codemirror_mode": {
    "name": "ipython",
    "version": 3
   },
   "file_extension": ".py",
   "mimetype": "text/x-python",
   "name": "python",
   "nbconvert_exporter": "python",
   "pygments_lexer": "ipython3",
   "version": "3.7.2"
  }
 },
 "nbformat": 4,
 "nbformat_minor": 2
}
